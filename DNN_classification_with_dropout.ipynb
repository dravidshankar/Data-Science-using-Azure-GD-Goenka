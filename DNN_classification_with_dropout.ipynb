{
  "nbformat": 4,
  "nbformat_minor": 0,
  "metadata": {
    "colab": {
      "provenance": [],
      "include_colab_link": true
    },
    "kernelspec": {
      "name": "python3",
      "display_name": "Python 3"
    },
    "language_info": {
      "name": "python"
    }
  },
  "cells": [
    {
      "cell_type": "markdown",
      "metadata": {
        "id": "view-in-github",
        "colab_type": "text"
      },
      "source": [
        "<a href=\"https://colab.research.google.com/github/dravidshankar/Data-Science-using-Azure-GD-Goenka/blob/main/DNN_classification_with_dropout.ipynb\" target=\"_parent\"><img src=\"https://colab.research.google.com/assets/colab-badge.svg\" alt=\"Open In Colab\"/></a>"
      ]
    },
    {
      "cell_type": "code",
      "execution_count": null,
      "metadata": {
        "id": "M0Amd6tCIzYn"
      },
      "outputs": [],
      "source": [
        "import numpy as np\n",
        "import pandas as pd\n",
        "import matplotlib.pyplot as plt\n",
        "# Load the dataset from sklearn\n",
        "from sklearn.datasets import load_wine\n",
        "# Importing both TensorFlow and its high level API - Keras.\n",
        "import tensorflow as tf\n",
        "from tensorflow import keras\n",
        "# Setting the random seeds for repeatability\n",
        "tf.random.set_seed(42)"
      ]
    },
    {
      "cell_type": "code",
      "source": [
        "# Loading the dataset\n",
        "wineData = load_wine()\n",
        "# Load the attributes and target in X and y\n",
        "X = wineData.data\n",
        "y = wineData.target\n",
        "# Split the data into 80% training and 20% testing\n",
        "from sklearn.model_selection import train_test_split\n",
        "X_train, X_test, y_train, y_test = train_test_split(X, y, test_size=0.2,\n",
        " stratify=y, random_state=42)\n",
        "# Feature scaling using Standardization\n",
        "from sklearn.preprocessing import StandardScaler\n",
        "sc = StandardScaler()\n",
        "# Training the feature scaling parameters\n",
        "sc.fit(X_train)"
      ],
      "metadata": {
        "colab": {
          "base_uri": "https://localhost:8080/"
        },
        "id": "VBSpZ5CCMPoH",
        "outputId": "1ed48321-4c16-4949-ff97-043b49c664d8"
      },
      "execution_count": null,
      "outputs": [
        {
          "output_type": "execute_result",
          "data": {
            "text/plain": [
              "StandardScaler()"
            ]
          },
          "metadata": {},
          "execution_count": 2
        }
      ]
    },
    {
      "cell_type": "code",
      "source": [
        "# Applying transformations to both training and testing set\n",
        "X_train_std = sc.transform(X_train)\n",
        "X_test_std = sc.transform(X_test)\n",
        "# Create neural network using keras API\n",
        "# Sequential() does linear stacking of layers\n",
        "model_DNN = keras.models.Sequential()\n",
        "# Hidden layer definitions\n",
        "model_DNN.add(keras.layers.Dense(units=15, activation='relu', input_shape=\n",
        "X_train.shape[1:]))\n",
        "# Dropout layer with 10% of nodes being discarded in each training step.\n",
        "model_DNN.add(keras.layers.Dropout(0.1))"
      ],
      "metadata": {
        "id": "mdqDbrzhMV0R"
      },
      "execution_count": null,
      "outputs": []
    },
    {
      "cell_type": "code",
      "source": [
        "model_DNN.add(keras.layers.Dense(units=12, activation='relu'))\n",
        "# Dropout layer with 10% of nodes being discarded in each training step.\n",
        "model_DNN.add(keras.layers.Dropout(0.1))\n",
        "model_DNN.add(keras.layers.Dense(units=8, activation='relu'))\n",
        "model_DNN.add(keras.layers.Dense(units=4, activation='relu'))\n",
        "# Output layer definitions\n",
        "model_DNN.add(keras.layers.Dense(units=3, activation='softmax'))\n",
        "# Print the summary of network architecture\n",
        "model_DNN.summary()"
      ],
      "metadata": {
        "colab": {
          "base_uri": "https://localhost:8080/"
        },
        "id": "4a4t1i31MZzH",
        "outputId": "88281e13-1f11-4b24-90d7-48099da302ff"
      },
      "execution_count": null,
      "outputs": [
        {
          "output_type": "stream",
          "name": "stdout",
          "text": [
            "Model: \"sequential\"\n",
            "_________________________________________________________________\n",
            " Layer (type)                Output Shape              Param #   \n",
            "=================================================================\n",
            " dense (Dense)               (None, 15)                210       \n",
            "                                                                 \n",
            " dropout (Dropout)           (None, 15)                0         \n",
            "                                                                 \n",
            " dense_1 (Dense)             (None, 12)                192       \n",
            "                                                                 \n",
            " dropout_1 (Dropout)         (None, 12)                0         \n",
            "                                                                 \n",
            " dense_2 (Dense)             (None, 8)                 104       \n",
            "                                                                 \n",
            " dense_3 (Dense)             (None, 4)                 36        \n",
            "                                                                 \n",
            " dense_4 (Dense)             (None, 3)                 15        \n",
            "                                                                 \n",
            "=================================================================\n",
            "Total params: 557\n",
            "Trainable params: 557\n",
            "Non-trainable params: 0\n",
            "_________________________________________________________________\n"
          ]
        }
      ]
    },
    {
      "cell_type": "code",
      "source": [
        "# Compile the network model with relevant configurations.\n",
        "# loss, optimizer and metrics are three important configurations.\n",
        "model_DNN.compile(loss='sparse_categorical_crossentropy',\n",
        " optimizer='adam', metrics=['accuracy'])"
      ],
      "metadata": {
        "id": "xVT1ZtCoMeHo"
      },
      "execution_count": null,
      "outputs": []
    },
    {
      "cell_type": "code",
      "source": [
        "# epochs and batch_size are hyperparameters and they need to\n",
        "# be set depending on the problem.\n",
        "model_DNN.fit(x=X_train_std, y=y_train, validation_split=0.1, epochs=50,\n",
        "batch_size=16)\n",
        "# Evaluate the model with the 20% testing set.\n",
        "# The function to evaluate the model returns two values,\n",
        "# output loss, and the accuracy.\n",
        "test_loss, test_accuracy = model_DNN.evaluate(x=X_test_std, y=y_test)\n",
        "# Print the output loss and accuracy.\n",
        "# Depending on the computer used for evaluation,\n",
        "# the results might slightly vary.\n",
        "# The accuracy obtained can be close enough to what is obtained here\n",
        "print(\"Test Accuracy is:\",test_loss,\"Test Accuracy is:\", test_accuracy)\n"
      ],
      "metadata": {
        "colab": {
          "base_uri": "https://localhost:8080/"
        },
        "id": "r641MJoHMi5X",
        "outputId": "e4f06a37-d84d-40e5-a42d-71a57ed495da"
      },
      "execution_count": null,
      "outputs": [
        {
          "output_type": "stream",
          "name": "stdout",
          "text": [
            "Epoch 1/50\n",
            "8/8 [==============================] - 0s 11ms/step - loss: 0.3510 - accuracy: 0.8819 - val_loss: 0.4769 - val_accuracy: 1.0000\n",
            "Epoch 2/50\n",
            "8/8 [==============================] - 0s 6ms/step - loss: 0.3497 - accuracy: 0.9055 - val_loss: 0.4671 - val_accuracy: 1.0000\n",
            "Epoch 3/50\n",
            "8/8 [==============================] - 0s 6ms/step - loss: 0.3270 - accuracy: 0.9449 - val_loss: 0.4572 - val_accuracy: 1.0000\n",
            "Epoch 4/50\n",
            "8/8 [==============================] - 0s 6ms/step - loss: 0.3227 - accuracy: 0.9370 - val_loss: 0.4481 - val_accuracy: 1.0000\n",
            "Epoch 5/50\n",
            "8/8 [==============================] - 0s 8ms/step - loss: 0.3141 - accuracy: 0.9134 - val_loss: 0.4401 - val_accuracy: 1.0000\n",
            "Epoch 6/50\n",
            "8/8 [==============================] - 0s 6ms/step - loss: 0.3227 - accuracy: 0.9134 - val_loss: 0.4340 - val_accuracy: 1.0000\n",
            "Epoch 7/50\n",
            "8/8 [==============================] - 0s 5ms/step - loss: 0.3187 - accuracy: 0.8976 - val_loss: 0.4289 - val_accuracy: 1.0000\n",
            "Epoch 8/50\n",
            "8/8 [==============================] - 0s 6ms/step - loss: 0.3120 - accuracy: 0.9291 - val_loss: 0.4236 - val_accuracy: 1.0000\n",
            "Epoch 9/50\n",
            "8/8 [==============================] - 0s 6ms/step - loss: 0.2953 - accuracy: 0.9291 - val_loss: 0.4174 - val_accuracy: 1.0000\n",
            "Epoch 10/50\n",
            "8/8 [==============================] - 0s 7ms/step - loss: 0.2856 - accuracy: 0.9685 - val_loss: 0.4119 - val_accuracy: 1.0000\n",
            "Epoch 11/50\n",
            "8/8 [==============================] - 0s 6ms/step - loss: 0.2822 - accuracy: 0.9606 - val_loss: 0.4069 - val_accuracy: 1.0000\n",
            "Epoch 12/50\n",
            "8/8 [==============================] - 0s 9ms/step - loss: 0.2688 - accuracy: 0.9764 - val_loss: 0.4024 - val_accuracy: 1.0000\n",
            "Epoch 13/50\n",
            "8/8 [==============================] - 0s 7ms/step - loss: 0.2852 - accuracy: 0.9370 - val_loss: 0.3982 - val_accuracy: 1.0000\n",
            "Epoch 14/50\n",
            "8/8 [==============================] - 0s 6ms/step - loss: 0.2832 - accuracy: 0.9370 - val_loss: 0.3941 - val_accuracy: 1.0000\n",
            "Epoch 15/50\n",
            "8/8 [==============================] - 0s 6ms/step - loss: 0.2733 - accuracy: 0.9606 - val_loss: 0.3899 - val_accuracy: 1.0000\n",
            "Epoch 16/50\n",
            "8/8 [==============================] - 0s 6ms/step - loss: 0.2442 - accuracy: 0.9764 - val_loss: 0.3861 - val_accuracy: 1.0000\n",
            "Epoch 17/50\n",
            "8/8 [==============================] - 0s 6ms/step - loss: 0.2416 - accuracy: 0.9606 - val_loss: 0.3819 - val_accuracy: 1.0000\n",
            "Epoch 18/50\n",
            "8/8 [==============================] - 0s 6ms/step - loss: 0.2641 - accuracy: 0.9449 - val_loss: 0.3783 - val_accuracy: 1.0000\n",
            "Epoch 19/50\n",
            "8/8 [==============================] - 0s 6ms/step - loss: 0.2608 - accuracy: 0.9764 - val_loss: 0.3745 - val_accuracy: 1.0000\n",
            "Epoch 20/50\n",
            "8/8 [==============================] - 0s 6ms/step - loss: 0.2511 - accuracy: 0.9685 - val_loss: 0.3707 - val_accuracy: 1.0000\n",
            "Epoch 21/50\n",
            "8/8 [==============================] - 0s 7ms/step - loss: 0.2361 - accuracy: 0.9685 - val_loss: 0.3669 - val_accuracy: 1.0000\n",
            "Epoch 22/50\n",
            "8/8 [==============================] - 0s 6ms/step - loss: 0.2368 - accuracy: 0.9685 - val_loss: 0.3633 - val_accuracy: 1.0000\n",
            "Epoch 23/50\n",
            "8/8 [==============================] - 0s 7ms/step - loss: 0.2129 - accuracy: 0.9921 - val_loss: 0.3600 - val_accuracy: 1.0000\n",
            "Epoch 24/50\n",
            "8/8 [==============================] - 0s 6ms/step - loss: 0.2816 - accuracy: 0.9528 - val_loss: 0.3565 - val_accuracy: 1.0000\n",
            "Epoch 25/50\n",
            "8/8 [==============================] - 0s 6ms/step - loss: 0.2474 - accuracy: 0.9606 - val_loss: 0.3531 - val_accuracy: 1.0000\n",
            "Epoch 26/50\n",
            "8/8 [==============================] - 0s 6ms/step - loss: 0.2283 - accuracy: 0.9606 - val_loss: 0.3497 - val_accuracy: 1.0000\n",
            "Epoch 27/50\n",
            "8/8 [==============================] - 0s 5ms/step - loss: 0.2614 - accuracy: 0.9606 - val_loss: 0.3468 - val_accuracy: 1.0000\n",
            "Epoch 28/50\n",
            "8/8 [==============================] - 0s 6ms/step - loss: 0.2192 - accuracy: 0.9764 - val_loss: 0.3438 - val_accuracy: 1.0000\n",
            "Epoch 29/50\n",
            "8/8 [==============================] - 0s 5ms/step - loss: 0.2267 - accuracy: 0.9843 - val_loss: 0.3406 - val_accuracy: 1.0000\n",
            "Epoch 30/50\n",
            "8/8 [==============================] - 0s 6ms/step - loss: 0.2147 - accuracy: 0.9685 - val_loss: 0.3374 - val_accuracy: 1.0000\n",
            "Epoch 31/50\n",
            "8/8 [==============================] - 0s 6ms/step - loss: 0.2096 - accuracy: 0.9764 - val_loss: 0.3344 - val_accuracy: 1.0000\n",
            "Epoch 32/50\n",
            "8/8 [==============================] - 0s 6ms/step - loss: 0.2051 - accuracy: 0.9843 - val_loss: 0.3312 - val_accuracy: 1.0000\n",
            "Epoch 33/50\n",
            "8/8 [==============================] - 0s 6ms/step - loss: 0.2073 - accuracy: 0.9764 - val_loss: 0.3282 - val_accuracy: 1.0000\n",
            "Epoch 34/50\n",
            "8/8 [==============================] - 0s 6ms/step - loss: 0.2824 - accuracy: 0.9606 - val_loss: 0.3252 - val_accuracy: 1.0000\n",
            "Epoch 35/50\n",
            "8/8 [==============================] - 0s 8ms/step - loss: 0.2067 - accuracy: 0.9843 - val_loss: 0.3221 - val_accuracy: 1.0000\n",
            "Epoch 36/50\n",
            "8/8 [==============================] - 0s 8ms/step - loss: 0.1921 - accuracy: 0.9921 - val_loss: 0.3193 - val_accuracy: 1.0000\n",
            "Epoch 37/50\n",
            "8/8 [==============================] - 0s 6ms/step - loss: 0.2691 - accuracy: 0.9528 - val_loss: 0.3165 - val_accuracy: 1.0000\n",
            "Epoch 38/50\n",
            "8/8 [==============================] - 0s 6ms/step - loss: 0.2163 - accuracy: 0.9843 - val_loss: 0.3137 - val_accuracy: 1.0000\n",
            "Epoch 39/50\n",
            "8/8 [==============================] - 0s 5ms/step - loss: 0.2129 - accuracy: 0.9528 - val_loss: 0.3109 - val_accuracy: 1.0000\n",
            "Epoch 40/50\n",
            "8/8 [==============================] - 0s 6ms/step - loss: 0.2259 - accuracy: 0.9843 - val_loss: 0.3082 - val_accuracy: 1.0000\n",
            "Epoch 41/50\n",
            "8/8 [==============================] - 0s 7ms/step - loss: 0.1940 - accuracy: 0.9843 - val_loss: 0.3054 - val_accuracy: 1.0000\n",
            "Epoch 42/50\n",
            "8/8 [==============================] - 0s 6ms/step - loss: 0.1829 - accuracy: 0.9921 - val_loss: 0.3028 - val_accuracy: 1.0000\n",
            "Epoch 43/50\n",
            "8/8 [==============================] - 0s 6ms/step - loss: 0.1722 - accuracy: 1.0000 - val_loss: 0.3001 - val_accuracy: 1.0000\n",
            "Epoch 44/50\n",
            "8/8 [==============================] - 0s 5ms/step - loss: 0.1839 - accuracy: 0.9921 - val_loss: 0.2973 - val_accuracy: 1.0000\n",
            "Epoch 45/50\n",
            "8/8 [==============================] - 0s 6ms/step - loss: 0.2089 - accuracy: 0.9764 - val_loss: 0.2948 - val_accuracy: 1.0000\n",
            "Epoch 46/50\n",
            "8/8 [==============================] - 0s 6ms/step - loss: 0.1710 - accuracy: 1.0000 - val_loss: 0.2923 - val_accuracy: 1.0000\n",
            "Epoch 47/50\n",
            "8/8 [==============================] - 0s 6ms/step - loss: 0.1902 - accuracy: 0.9843 - val_loss: 0.2898 - val_accuracy: 1.0000\n",
            "Epoch 48/50\n",
            "8/8 [==============================] - 0s 6ms/step - loss: 0.1782 - accuracy: 1.0000 - val_loss: 0.2873 - val_accuracy: 1.0000\n",
            "Epoch 49/50\n",
            "8/8 [==============================] - 0s 6ms/step - loss: 0.1873 - accuracy: 0.9921 - val_loss: 0.2849 - val_accuracy: 1.0000\n",
            "Epoch 50/50\n",
            "8/8 [==============================] - 0s 6ms/step - loss: 0.1711 - accuracy: 0.9843 - val_loss: 0.2825 - val_accuracy: 1.0000\n",
            "2/2 [==============================] - 0s 6ms/step - loss: 0.2369 - accuracy: 0.9444\n",
            "Test Accuracy is: 0.23687706887722015 Test Accuracy is: 0.9444444179534912\n"
          ]
        }
      ]
    },
    {
      "cell_type": "code",
      "source": [
        "print(\"Test Accuracy is:\",test_loss,\"Test Accuracy is:\", test_accuracy)"
      ],
      "metadata": {
        "colab": {
          "base_uri": "https://localhost:8080/"
        },
        "id": "sZLra-HPMp3x",
        "outputId": "6b7b3375-5dee-40e2-c4bf-f761e111798b"
      },
      "execution_count": null,
      "outputs": [
        {
          "output_type": "stream",
          "name": "stdout",
          "text": [
            "Test Accuracy is: 0.23687706887722015 Test Accuracy is: 0.9444444179534912\n"
          ]
        }
      ]
    },
    {
      "cell_type": "code",
      "source": [],
      "metadata": {
        "id": "CwhixHR6OPrf"
      },
      "execution_count": null,
      "outputs": []
    }
  ]
}