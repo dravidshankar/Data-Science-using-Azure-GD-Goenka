{
  "nbformat": 4,
  "nbformat_minor": 0,
  "metadata": {
    "colab": {
      "provenance": [],
      "authorship_tag": "ABX9TyPy+Xo9RLGYbwReuTsS2Ymy",
      "include_colab_link": true
    },
    "kernelspec": {
      "name": "python3",
      "display_name": "Python 3"
    },
    "language_info": {
      "name": "python"
    }
  },
  "cells": [
    {
      "cell_type": "markdown",
      "metadata": {
        "id": "view-in-github",
        "colab_type": "text"
      },
      "source": [
        "<a href=\"https://colab.research.google.com/github/dravidshankar/Data-Science-using-Azure-GD-Goenka/blob/main/Tokenization_and_Text_Cleaning.ipynb\" target=\"_parent\"><img src=\"https://colab.research.google.com/assets/colab-badge.svg\" alt=\"Open In Colab\"/></a>"
      ]
    },
    {
      "cell_type": "markdown",
      "source": [
        "## **Tokenization and Text Cleaning**\n",
        "\n",
        "Import libraries: Import necessary libraries from nltk and re.\n",
        "\n",
        "Download nltk resources: Download the punkt tokenizer and stopwords list.\n",
        "\n",
        "**Clean text function:**\n",
        "\n",
        "1. Convert text to lowercase.\n",
        "2. Remove URLs using a regular expression.\n",
        "3. Remove HTML tags using a regular expression.\n",
        "4. Remove punctuation and special characters using a regular expression.\n",
        "5. Remove numbers using a regular expression.\n",
        "6. Remove extra whitespace and strip leading/trailing spaces.\n",
        "\n",
        "**Tokenize and clean function:**\n",
        "\n",
        "1. Clean the text using the clean_text function.\n",
        "2. Tokenize the cleaned text using nltk's word_tokenize.\n",
        "3. Remove stopwords from the tokens.\n",
        "\n",
        "Example text: A sample text to demonstrate the cleaning and tokenization.\n",
        "\n",
        "Clean and tokenize the sample text: Call the tokenize_and_clean function on the sample text and print the cleaned tokens."
      ],
      "metadata": {
        "id": "96gm5SVGn1dC"
      }
    },
    {
      "cell_type": "code",
      "execution_count": null,
      "metadata": {
        "id": "AvZ8EE7Rnn49"
      },
      "outputs": [],
      "source": [
        "import nltk\n",
        "import re\n",
        "from nltk.corpus import stopwords\n",
        "from nltk.tokenize import word_tokenize\n",
        "\n",
        "# Download the necessary resources from nltk\n",
        "nltk.download('punkt')\n",
        "nltk.download('stopwords')\n",
        "\n",
        "def clean_text(text):\n",
        "    # Convert text to lowercase\n",
        "    text = text.lower()\n",
        "    # Remove URLs\n",
        "    text = re.sub(r'http\\S+|www\\S+|https\\S+', '', text, flags=re.MULTILINE)\n",
        "    # Remove HTML tags\n",
        "    text = re.sub(r'<.*?>', '', text)\n",
        "    # Remove punctuation and special characters\n",
        "    text = re.sub(r'[^a-zA-Z\\s]', '', text)\n",
        "    # Remove numbers\n",
        "    text = re.sub(r'\\d+', '', text)\n",
        "    # Remove extra whitespace\n",
        "    text = re.sub(r'\\s+', ' ', text).strip()\n",
        "    return text\n",
        "\n",
        "def tokenize_and_clean(text):\n",
        "    # Clean the text\n",
        "    cleaned_text = clean_text(text)\n",
        "    # Tokenize the cleaned text\n",
        "    tokens = word_tokenize(cleaned_text)\n",
        "    # Remove stopwords\n",
        "    stop_words = set(stopwords.words('english'))\n",
        "    tokens = [word for word in tokens if word not in stop_words]\n",
        "    return tokens\n",
        "\n",
        "# Example text\n",
        "sample_text = \"\"\"\n",
        "    Here is a sample text with a URL: https://example.com.\n",
        "    It contains <b>HTML</b> tags, numbers like 12345,\n",
        "    and punctuations!!! Let's clean & tokenize it.\n",
        "\"\"\"\n",
        "\n",
        "# Clean and tokenize the sample text\n",
        "cleaned_tokens = tokenize_and_clean(sample_text)\n",
        "print(\"Cleaned Tokens:\\n\", cleaned_tokens)\n"
      ]
    }
  ]
}