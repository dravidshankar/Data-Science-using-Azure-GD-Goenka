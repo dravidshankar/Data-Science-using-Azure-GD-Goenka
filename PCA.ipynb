{
  "nbformat": 4,
  "nbformat_minor": 0,
  "metadata": {
    "colab": {
      "provenance": [],
      "authorship_tag": "ABX9TyPRCmpzimKPMwF1jkUPSqp1",
      "include_colab_link": true
    },
    "kernelspec": {
      "name": "python3",
      "display_name": "Python 3"
    },
    "language_info": {
      "name": "python"
    }
  },
  "cells": [
    {
      "cell_type": "markdown",
      "metadata": {
        "id": "view-in-github",
        "colab_type": "text"
      },
      "source": [
        "<a href=\"https://colab.research.google.com/github/dravidshankar/Data-Science-using-Azure-GD-Goenka/blob/main/PCA.ipynb\" target=\"_parent\"><img src=\"https://colab.research.google.com/assets/colab-badge.svg\" alt=\"Open In Colab\"/></a>"
      ]
    },
    {
      "cell_type": "code",
      "execution_count": null,
      "metadata": {
        "id": "JAAazpYHyUeW"
      },
      "outputs": [],
      "source": [
        "import numpy as np\n"
      ]
    },
    {
      "cell_type": "code",
      "source": [
        "A =np.array([[11,22],[33,44],[55,66]])\n",
        "A"
      ],
      "metadata": {
        "colab": {
          "base_uri": "https://localhost:8080/"
        },
        "id": "WY--3PlIzOle",
        "outputId": "0803d9e0-1743-4c5a-eb7e-b8bc901082a4"
      },
      "execution_count": null,
      "outputs": [
        {
          "output_type": "execute_result",
          "data": {
            "text/plain": [
              "array([[11, 22],\n",
              "       [33, 44],\n",
              "       [55, 66]])"
            ]
          },
          "metadata": {},
          "execution_count": 32
        }
      ]
    },
    {
      "cell_type": "code",
      "source": [
        "#Calculate the mean of each column\n",
        "Mean = np.mean(A.T,axis=1)"
      ],
      "metadata": {
        "id": "VJDpta6QzjpH"
      },
      "execution_count": null,
      "outputs": []
    },
    {
      "cell_type": "code",
      "source": [
        "Mean"
      ],
      "metadata": {
        "colab": {
          "base_uri": "https://localhost:8080/"
        },
        "id": "RO_spmTxz_TL",
        "outputId": "ff41d362-964a-47eb-ba1d-095cadb53541"
      },
      "execution_count": null,
      "outputs": [
        {
          "output_type": "execute_result",
          "data": {
            "text/plain": [
              "array([33., 44.])"
            ]
          },
          "metadata": {},
          "execution_count": 34
        }
      ]
    },
    {
      "cell_type": "code",
      "source": [
        "#Subtract Mean from columns of original matrix\n",
        "C = A-Mean"
      ],
      "metadata": {
        "id": "n2JqxOR30AGT"
      },
      "execution_count": null,
      "outputs": []
    },
    {
      "cell_type": "code",
      "source": [
        "C"
      ],
      "metadata": {
        "colab": {
          "base_uri": "https://localhost:8080/"
        },
        "id": "ALvf3ZQM0jbP",
        "outputId": "5ea68937-f89a-4475-d801-6113cba9d3ac"
      },
      "execution_count": null,
      "outputs": [
        {
          "output_type": "execute_result",
          "data": {
            "text/plain": [
              "array([[-22., -22.],\n",
              "       [  0.,   0.],\n",
              "       [ 22.,  22.]])"
            ]
          },
          "metadata": {},
          "execution_count": 36
        }
      ]
    },
    {
      "cell_type": "code",
      "source": [
        "#Calculate the covariance of the C matrix\n",
        "V = np.cov(C.T)"
      ],
      "metadata": {
        "id": "iLTswa_u05BM"
      },
      "execution_count": null,
      "outputs": []
    },
    {
      "cell_type": "code",
      "source": [
        "#Covariance\n",
        "V"
      ],
      "metadata": {
        "colab": {
          "base_uri": "https://localhost:8080/"
        },
        "id": "R7TNL4d-1MZ8",
        "outputId": "4e2b54df-8607-4b3b-f353-9fe64bd7a34a"
      },
      "execution_count": null,
      "outputs": [
        {
          "output_type": "execute_result",
          "data": {
            "text/plain": [
              "array([[484., 484.],\n",
              "       [484., 484.]])"
            ]
          },
          "metadata": {},
          "execution_count": 38
        }
      ]
    },
    {
      "cell_type": "code",
      "source": [
        "#Eigen Value Decomposition\n",
        "e_values,e_vectors = np.linalg.eig(V)"
      ],
      "metadata": {
        "id": "Vk_n_YW11Z9v"
      },
      "execution_count": null,
      "outputs": []
    },
    {
      "cell_type": "code",
      "source": [
        "#Print Eigen Values and Eigen Vectors\n",
        "print(\"Eigen Values:\",e_values,\"Eigen Vectors:\",e_vectors)"
      ],
      "metadata": {
        "colab": {
          "base_uri": "https://localhost:8080/"
        },
        "id": "R_gIQRYE2BwP",
        "outputId": "83bf143e-39f9-46fa-89dd-88f91f2736bf"
      },
      "execution_count": null,
      "outputs": [
        {
          "output_type": "stream",
          "name": "stdout",
          "text": [
            "Eigen Values: [968.   0.] Eigen Vectors: [[ 0.70710678 -0.70710678]\n",
            " [ 0.70710678  0.70710678]]\n"
          ]
        }
      ]
    },
    {
      "cell_type": "code",
      "source": [
        "#Project Data\n",
        "P = e_vectors.T.dot(C.T)"
      ],
      "metadata": {
        "id": "TIqcbtll2Qnu"
      },
      "execution_count": null,
      "outputs": []
    },
    {
      "cell_type": "code",
      "source": [
        "P"
      ],
      "metadata": {
        "colab": {
          "base_uri": "https://localhost:8080/"
        },
        "id": "DdNDVkRy2tuq",
        "outputId": "3878a866-6bcc-4b2d-dcb1-c5a1300e1291"
      },
      "execution_count": null,
      "outputs": [
        {
          "output_type": "execute_result",
          "data": {
            "text/plain": [
              "array([[-3.11126984e+01,  0.00000000e+00,  3.11126984e+01],\n",
              "       [-8.88178420e-16,  0.00000000e+00,  8.88178420e-16]])"
            ]
          },
          "metadata": {},
          "execution_count": 42
        }
      ]
    },
    {
      "cell_type": "code",
      "source": [
        "P.T"
      ],
      "metadata": {
        "colab": {
          "base_uri": "https://localhost:8080/"
        },
        "id": "H4U8Tu_a2usC",
        "outputId": "95a642ba-b710-4b6c-cd1e-b8b7f1bdd7ca"
      },
      "execution_count": null,
      "outputs": [
        {
          "output_type": "execute_result",
          "data": {
            "text/plain": [
              "array([[-3.11126984e+01, -8.88178420e-16],\n",
              "       [ 0.00000000e+00,  0.00000000e+00],\n",
              "       [ 3.11126984e+01,  8.88178420e-16]])"
            ]
          },
          "metadata": {},
          "execution_count": 43
        }
      ]
    },
    {
      "cell_type": "code",
      "source": [
        "C"
      ],
      "metadata": {
        "colab": {
          "base_uri": "https://localhost:8080/"
        },
        "id": "2F6XgB0-3aSo",
        "outputId": "45a08d34-0a57-4fc8-fd3e-8c71d10abe4d"
      },
      "execution_count": null,
      "outputs": [
        {
          "output_type": "execute_result",
          "data": {
            "text/plain": [
              "array([[-22., -22.],\n",
              "       [  0.,   0.],\n",
              "       [ 22.,  22.]])"
            ]
          },
          "metadata": {},
          "execution_count": 44
        }
      ]
    },
    {
      "cell_type": "code",
      "source": [
        "#SKLEARN PCA\n",
        "from sklearn.decomposition import PCA"
      ],
      "metadata": {
        "id": "_wC7faDY3mAb"
      },
      "execution_count": null,
      "outputs": []
    },
    {
      "cell_type": "code",
      "source": [
        "A"
      ],
      "metadata": {
        "colab": {
          "base_uri": "https://localhost:8080/"
        },
        "id": "ymhD778g4LEA",
        "outputId": "70f4f8de-b4ca-4dea-d605-ed4a759b135d"
      },
      "execution_count": null,
      "outputs": [
        {
          "output_type": "execute_result",
          "data": {
            "text/plain": [
              "array([[11, 22],\n",
              "       [33, 44],\n",
              "       [55, 66]])"
            ]
          },
          "metadata": {},
          "execution_count": 46
        }
      ]
    },
    {
      "cell_type": "code",
      "source": [
        "#Calculate PCA\n",
        "pca = PCA(2)"
      ],
      "metadata": {
        "id": "XDwyB09O4NQv"
      },
      "execution_count": null,
      "outputs": []
    },
    {
      "cell_type": "code",
      "source": [
        "pca.fit(A)"
      ],
      "metadata": {
        "colab": {
          "base_uri": "https://localhost:8080/"
        },
        "id": "T9Nm6x744YFJ",
        "outputId": "4afe44fd-6ea9-47d3-a986-b1b000fca732"
      },
      "execution_count": null,
      "outputs": [
        {
          "output_type": "execute_result",
          "data": {
            "text/plain": [
              "PCA(n_components=2)"
            ]
          },
          "metadata": {},
          "execution_count": 48
        }
      ]
    },
    {
      "cell_type": "code",
      "source": [
        "pca.components_"
      ],
      "metadata": {
        "colab": {
          "base_uri": "https://localhost:8080/"
        },
        "id": "7IFeVmFF4gxK",
        "outputId": "a9f81d9a-11cc-4a7d-f233-bf945fbfb162"
      },
      "execution_count": null,
      "outputs": [
        {
          "output_type": "execute_result",
          "data": {
            "text/plain": [
              "array([[-0.70710678, -0.70710678],\n",
              "       [-0.70710678,  0.70710678]])"
            ]
          },
          "metadata": {},
          "execution_count": 49
        }
      ]
    },
    {
      "cell_type": "code",
      "source": [
        "New_data = pca.transform(A)"
      ],
      "metadata": {
        "id": "PNtDEbYs4mlT"
      },
      "execution_count": null,
      "outputs": []
    },
    {
      "cell_type": "code",
      "source": [
        "New_data"
      ],
      "metadata": {
        "colab": {
          "base_uri": "https://localhost:8080/"
        },
        "id": "7wb_RFKN5Kbm",
        "outputId": "1fe1eb15-4f51-473e-c600-0b6440c7c481"
      },
      "execution_count": null,
      "outputs": [
        {
          "output_type": "execute_result",
          "data": {
            "text/plain": [
              "array([[ 3.11126984e+01, -3.33066907e-15],\n",
              "       [ 0.00000000e+00,  0.00000000e+00],\n",
              "       [-3.11126984e+01,  3.33066907e-15]])"
            ]
          },
          "metadata": {},
          "execution_count": 51
        }
      ]
    },
    {
      "cell_type": "code",
      "source": [
        "P.T"
      ],
      "metadata": {
        "colab": {
          "base_uri": "https://localhost:8080/"
        },
        "id": "Z-6kLyGC5MPX",
        "outputId": "2821fe56-b45d-473b-caa4-57b6bc2cb349"
      },
      "execution_count": null,
      "outputs": [
        {
          "output_type": "execute_result",
          "data": {
            "text/plain": [
              "array([[-3.11126984e+01, -8.88178420e-16],\n",
              "       [ 0.00000000e+00,  0.00000000e+00],\n",
              "       [ 3.11126984e+01,  8.88178420e-16]])"
            ]
          },
          "metadata": {},
          "execution_count": 53
        }
      ]
    },
    {
      "cell_type": "code",
      "source": [],
      "metadata": {
        "id": "cP-jb9sB5N-o"
      },
      "execution_count": null,
      "outputs": []
    }
  ]
}