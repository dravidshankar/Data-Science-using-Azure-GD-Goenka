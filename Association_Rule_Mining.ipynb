{
  "nbformat": 4,
  "nbformat_minor": 0,
  "metadata": {
    "colab": {
      "provenance": [],
      "authorship_tag": "ABX9TyNtpUU2jeGaCNRluZGXNni5",
      "include_colab_link": true
    },
    "kernelspec": {
      "name": "python3",
      "display_name": "Python 3"
    },
    "language_info": {
      "name": "python"
    }
  },
  "cells": [
    {
      "cell_type": "markdown",
      "metadata": {
        "id": "view-in-github",
        "colab_type": "text"
      },
      "source": [
        "<a href=\"https://colab.research.google.com/github/dravidshankar/Data-Science-using-Azure-GD-Goenka/blob/main/Association_Rule_Mining.ipynb\" target=\"_parent\"><img src=\"https://colab.research.google.com/assets/colab-badge.svg\" alt=\"Open In Colab\"/></a>"
      ]
    },
    {
      "cell_type": "markdown",
      "source": [
        "## Market Basket Analysis / Association Rule Mining using Apriori and FP growth Algorithms\n",
        "\n",
        "**Load the dataset:** We load the Online Retail dataset from the UCI Machine Learning Repository.\n",
        "\n",
        "**Data preprocessing:** We clean the data by stripping whitespace from item descriptions, dropping rows with missing invoice numbers, converting invoice numbers to strings, and removing canceled transactions (those with 'C' in the invoice number).\n",
        "\n",
        "**Basket analysis:** We create a basket of transactions for customers in France, where each row represents a transaction (invoice) and each column represents a product. The values in the table are the quantities of each product in each transaction.\n",
        "\n",
        "**Encoding the data:** We encode the quantities into 1 (if the product is bought) and 0 (if not bought).\n",
        "\n",
        "**Apriori algorithm**: We apply the Apriori algorithm to find frequent itemsets and generate association rules based on those itemsets.\n",
        "\n",
        "**FP-Growth algorithm**: Similarly, we apply the FP-Growth algorithm to find frequent itemsets and generate association rules."
      ],
      "metadata": {
        "id": "5jl2o3Q0jxbU"
      }
    },
    {
      "cell_type": "code",
      "execution_count": null,
      "metadata": {
        "colab": {
          "base_uri": "https://localhost:8080/"
        },
        "id": "pyUCWDiH-GG5",
        "outputId": "2d8aed01-1dd4-4e10-99fe-1906fd07348c"
      },
      "outputs": [
        {
          "output_type": "stream",
          "name": "stdout",
          "text": [
            "  InvoiceNo StockCode                          Description  Quantity  \\\n",
            "0    536365    85123A   WHITE HANGING HEART T-LIGHT HOLDER         6   \n",
            "1    536365     71053                  WHITE METAL LANTERN         6   \n",
            "2    536365    84406B       CREAM CUPID HEARTS COAT HANGER         8   \n",
            "3    536365    84029G  KNITTED UNION FLAG HOT WATER BOTTLE         6   \n",
            "4    536365    84029E       RED WOOLLY HOTTIE WHITE HEART.         6   \n",
            "\n",
            "          InvoiceDate  UnitPrice  CustomerID         Country  \n",
            "0 2010-12-01 08:26:00       2.55     17850.0  United Kingdom  \n",
            "1 2010-12-01 08:26:00       3.39     17850.0  United Kingdom  \n",
            "2 2010-12-01 08:26:00       2.75     17850.0  United Kingdom  \n",
            "3 2010-12-01 08:26:00       3.39     17850.0  United Kingdom  \n",
            "4 2010-12-01 08:26:00       3.39     17850.0  United Kingdom  \n"
          ]
        }
      ],
      "source": [
        "import pandas as pd\n",
        "from mlxtend.frequent_patterns import apriori, association_rules, fpgrowth\n",
        "\n",
        "# Load the dataset\n",
        "url = 'https://archive.ics.uci.edu/ml/machine-learning-databases/00352/Online%20Retail.xlsx'\n",
        "df = pd.read_excel(url)\n",
        "\n",
        "# Data Preprocessing\n",
        "df['Description'] = df['Description'].str.strip()\n",
        "df.dropna(axis=0, subset=['InvoiceNo'], inplace=True)\n",
        "df['InvoiceNo'] = df['InvoiceNo'].astype('str')\n",
        "df = df[~df['InvoiceNo'].str.contains('C')]\n",
        "\n",
        "# Basket analysis\n",
        "basket = (df[df['Country'] == 'France']\n",
        "          .groupby(['InvoiceNo', 'Description'])['Quantity']\n",
        "          .sum().unstack().reset_index().fillna(0)\n",
        "          .set_index('InvoiceNo'))\n",
        "\n",
        "def encode_units(x):\n",
        "    return 1 if x >= 1 else 0\n",
        "\n",
        "basket_sets = basket.applymap(encode_units)\n",
        "\n",
        "# Apriori Algorithm\n",
        "frequent_itemsets_apriori = apriori(basket_sets, min_support=0.07, use_colnames=True)\n",
        "rules_apriori = association_rules(frequent_itemsets_apriori, metric=\"lift\", min_threshold=1)\n",
        "\n",
        "# FP-Growth Algorithm\n",
        "frequent_itemsets_fpgrowth = fpgrowth(basket_sets, min_support=0.07, use_colnames=True)\n",
        "rules_fpgrowth = association_rules(frequent_itemsets_fpgrowth, metric=\"lift\", min_threshold=1)\n",
        "\n",
        "# Display results\n",
        "print(\"Frequent Itemsets using Apriori:\\n\", frequent_itemsets_apriori)\n",
        "print(\"\\nAssociation Rules using Apriori:\\n\", rules_apriori)\n",
        "print(\"\\nFrequent Itemsets using FP-Growth:\\n\", frequent_itemsets_fpgrowth)\n",
        "print(\"\\nAssociation Rules using FP-Growth:\\n\", rules_fpgrowth)\n"
      ]
    },
    {
      "cell_type": "code",
      "source": [],
      "metadata": {
        "id": "P4n6-zpb_Dnn"
      },
      "execution_count": null,
      "outputs": []
    }
  ]
}