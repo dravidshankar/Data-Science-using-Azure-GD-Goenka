{
  "nbformat": 4,
  "nbformat_minor": 0,
  "metadata": {
    "colab": {
      "provenance": [],
      "include_colab_link": true
    },
    "kernelspec": {
      "name": "python3",
      "display_name": "Python 3"
    },
    "language_info": {
      "name": "python"
    },
    "accelerator": "GPU"
  },
  "cells": [
    {
      "cell_type": "markdown",
      "metadata": {
        "id": "view-in-github",
        "colab_type": "text"
      },
      "source": [
        "<a href=\"https://colab.research.google.com/github/dravidshankar/Data-Science-using-Azure-GD-Goenka/blob/main/DNN_Classification.ipynb\" target=\"_parent\"><img src=\"https://colab.research.google.com/assets/colab-badge.svg\" alt=\"Open In Colab\"/></a>"
      ]
    },
    {
      "cell_type": "markdown",
      "metadata": {
        "id": "5z3pFnx5XyzR"
      },
      "source": [
        "Image Classification Task using Deep Neural Network\n",
        "\n",
        "\n",
        "keras : python based package for deep learning . Higher level API\n",
        "tensorflow : lower level API"
      ]
    },
    {
      "cell_type": "code",
      "metadata": {
        "id": "HYwjMZFCWruj"
      },
      "source": [
        "#Import Packages\n",
        "import numpy as np #array functionality and other features\n",
        "import pandas as pd #data analysis and manipulation\n",
        "import matplotlib.pyplot as plt #data visualization\n",
        "import tensorflow as tf #deep learning\n",
        "from tensorflow import keras\n",
        "\n"
      ],
      "execution_count": null,
      "outputs": []
    },
    {
      "cell_type": "code",
      "metadata": {
        "id": "IdjLCupNXn-k"
      },
      "source": [
        "#imported dataset\n",
        "mnistData = keras.datasets.mnist\n",
        "#mnist - hand written digits 0 to 9\n",
        "#mnistData = keras.datasets.mnist"
      ],
      "execution_count": null,
      "outputs": []
    },
    {
      "cell_type": "code",
      "metadata": {
        "colab": {
          "base_uri": "https://localhost:8080/"
        },
        "id": "wJ__Cd5zaeVk",
        "outputId": "32f40424-926c-452a-b0cc-03d2787caf88"
      },
      "source": [
        "#load the data into input and output variables\n",
        "# data training : X_train, label:y_train, X_test: test image, y_test: actual labels\n",
        "(X_train,y_train),(X_test,y_test)=mnistData.load_data()"
      ],
      "execution_count": null,
      "outputs": [
        {
          "output_type": "stream",
          "name": "stdout",
          "text": [
            "Downloading data from https://storage.googleapis.com/tensorflow/tf-keras-datasets/mnist.npz\n",
            "11490434/11490434 [==============================] - 1s 0us/step\n"
          ]
        }
      ]
    },
    {
      "cell_type": "code",
      "metadata": {
        "colab": {
          "base_uri": "https://localhost:8080/"
        },
        "id": "jPIYEWEUbFES",
        "outputId": "dc5ced28-4945-4d1c-fd61-2e0fa4e7581e"
      },
      "source": [
        "X_train.shape"
      ],
      "execution_count": null,
      "outputs": [
        {
          "output_type": "execute_result",
          "data": {
            "text/plain": [
              "(60000, 28, 28)"
            ]
          },
          "metadata": {},
          "execution_count": 5
        }
      ]
    },
    {
      "cell_type": "code",
      "metadata": {
        "colab": {
          "base_uri": "https://localhost:8080/"
        },
        "id": "XG9Q5omacDjs",
        "outputId": "d63f3050-067a-4225-bb39-0a9ccadd2a12"
      },
      "source": [
        "X_test.shape"
      ],
      "execution_count": null,
      "outputs": [
        {
          "output_type": "execute_result",
          "data": {
            "text/plain": [
              "(10000, 28, 28)"
            ]
          },
          "metadata": {},
          "execution_count": 6
        }
      ]
    },
    {
      "cell_type": "code",
      "metadata": {
        "colab": {
          "base_uri": "https://localhost:8080/",
          "height": 265
        },
        "id": "eRw3Lho9cKwN",
        "outputId": "7bd25eff-60fb-4246-c30e-3241005b1806"
      },
      "source": [
        "plt.imshow(X_train[13],cmap='gray')\n",
        "plt.show()"
      ],
      "execution_count": null,
      "outputs": [
        {
          "output_type": "display_data",
          "data": {
            "text/plain": [
              "<Figure size 432x288 with 1 Axes>"
            ],
            "image/png": "[encoded data removed]"
          },
          "metadata": {
            "needs_background": "light"
          }
        }
      ]
    },
    {
      "cell_type": "code",
      "metadata": {
        "colab": {
          "base_uri": "https://localhost:8080/"
        },
        "id": "a-OLQiRdcU_P",
        "outputId": "8a879145-d1ff-4f0d-afda-f22fa6078d3a"
      },
      "source": [
        "y_train[13]"
      ],
      "execution_count": null,
      "outputs": [
        {
          "output_type": "execute_result",
          "data": {
            "text/plain": [
              "6"
            ]
          },
          "metadata": {},
          "execution_count": 7
        }
      ]
    },
    {
      "cell_type": "code",
      "metadata": {
        "id": "Q4gwL2wqchkW"
      },
      "source": [
        "#Data Preprocessing\n",
        "X_train = X_train.reshape(60000,28*28)\n",
        "#0-255, scaled down between 0 and 1\n",
        "X_train = X_train.astype('float32')/255"
      ],
      "execution_count": null,
      "outputs": []
    },
    {
      "cell_type": "code",
      "metadata": {
        "id": "vWiiqc9qd9_B"
      },
      "source": [
        "X_test = X_test.reshape(10000,28*28)\n",
        "X_test = X_test.astype('float32')/255"
      ],
      "execution_count": null,
      "outputs": []
    },
    {
      "cell_type": "code",
      "metadata": {
        "id": "15X1qZwIeMT6"
      },
      "source": [
        "#Deep neural network achitecture : Sequential API, Functional API\n",
        "#dnn = keras.models.Sequential()\n",
        "dnn = keras.models.Sequential()"
      ],
      "execution_count": null,
      "outputs": []
    },
    {
      "cell_type": "code",
      "metadata": {
        "id": "VcYnx_sjetFK"
      },
      "source": [
        "#2 hidden layers, hidden layer 1 : 50 units, hidden layer 2 : 30 units\n",
        "dnn.add(keras.layers.Dense(50,activation='relu',input_shape=X_train.shape[1:]))"
      ],
      "execution_count": null,
      "outputs": []
    },
    {
      "cell_type": "code",
      "metadata": {
        "id": "RNknfaMOhIZ0"
      },
      "source": [
        "dnn.add(keras.layers.Dense(30,activation='relu'))"
      ],
      "execution_count": null,
      "outputs": []
    },
    {
      "cell_type": "code",
      "metadata": {
        "id": "-PEzpAo3hW_S"
      },
      "source": [
        "dnn.add(keras.layers.Dense(10,activation='softmax'))"
      ],
      "execution_count": null,
      "outputs": []
    },
    {
      "cell_type": "code",
      "metadata": {
        "colab": {
          "base_uri": "https://localhost:8080/"
        },
        "id": "SXnTjunChq09",
        "outputId": "e0fdf05b-2f10-4f2c-a777-6e565074b565"
      },
      "source": [
        "dnn.summary()"
      ],
      "execution_count": null,
      "outputs": [
        {
          "output_type": "stream",
          "name": "stdout",
          "text": [
            "Model: \"sequential\"\n",
            "_________________________________________________________________\n",
            " Layer (type)                Output Shape              Param #   \n",
            "=================================================================\n",
            " dense (Dense)               (None, 50)                39250     \n",
            "                                                                 \n",
            " dense_1 (Dense)             (None, 30)                1530      \n",
            "                                                                 \n",
            " dense_2 (Dense)             (None, 10)                310       \n",
            "                                                                 \n",
            "=================================================================\n",
            "Total params: 41,090\n",
            "Trainable params: 41,090\n",
            "Non-trainable params: 0\n",
            "_________________________________________________________________\n"
          ]
        }
      ]
    },
    {
      "cell_type": "code",
      "metadata": {
        "id": "xvCcSY4khvWU"
      },
      "source": [
        "dnn.compile(loss='sparse_categorical_crossentropy',optimizer='adam',metrics=['accuracy'])"
      ],
      "execution_count": null,
      "outputs": []
    },
    {
      "cell_type": "code",
      "metadata": {
        "colab": {
          "base_uri": "https://localhost:8080/"
        },
        "id": "eV2SEne_iTsN",
        "outputId": "37eecb98-9d8b-4fe9-d863-11ef7f7313d2"
      },
      "source": [
        "dnn.fit(x=X_train,y=y_train,validation_split=0.1,epochs=10,batch_size=16) #training"
      ],
      "execution_count": null,
      "outputs": [
        {
          "output_type": "stream",
          "text": [
            "Epoch 1/10\n",
            "3375/3375 [==============================] - 9s 2ms/step - loss: 0.4846 - accuracy: 0.8531 - val_loss: 0.1749 - val_accuracy: 0.9447\n",
            "Epoch 2/10\n",
            "3375/3375 [==============================] - 6s 2ms/step - loss: 0.1404 - accuracy: 0.9577 - val_loss: 0.1025 - val_accuracy: 0.9688\n",
            "Epoch 3/10\n",
            "3375/3375 [==============================] - 6s 2ms/step - loss: 0.1045 - accuracy: 0.9672 - val_loss: 0.1068 - val_accuracy: 0.9647\n",
            "Epoch 4/10\n",
            "3375/3375 [==============================] - 6s 2ms/step - loss: 0.0840 - accuracy: 0.9731 - val_loss: 0.0894 - val_accuracy: 0.9713\n",
            "Epoch 5/10\n",
            "3375/3375 [==============================] - 6s 2ms/step - loss: 0.0698 - accuracy: 0.9774 - val_loss: 0.0987 - val_accuracy: 0.9738\n",
            "Epoch 6/10\n",
            "3375/3375 [==============================] - 6s 2ms/step - loss: 0.0603 - accuracy: 0.9803 - val_loss: 0.1009 - val_accuracy: 0.9720\n",
            "Epoch 7/10\n",
            "3375/3375 [==============================] - 6s 2ms/step - loss: 0.0538 - accuracy: 0.9826 - val_loss: 0.1182 - val_accuracy: 0.9648\n",
            "Epoch 8/10\n",
            "3375/3375 [==============================] - 6s 2ms/step - loss: 0.0484 - accuracy: 0.9853 - val_loss: 0.1170 - val_accuracy: 0.9687\n",
            "Epoch 9/10\n",
            "3375/3375 [==============================] - 6s 2ms/step - loss: 0.0414 - accuracy: 0.9861 - val_loss: 0.1250 - val_accuracy: 0.9672\n",
            "Epoch 10/10\n",
            "3375/3375 [==============================] - 6s 2ms/step - loss: 0.0361 - accuracy: 0.9873 - val_loss: 0.0953 - val_accuracy: 0.9760\n"
          ],
          "name": "stdout"
        },
        {
          "output_type": "execute_result",
          "data": {
            "text/plain": [
              "<tensorflow.python.keras.callbacks.History at 0x7f50b15a8250>"
            ]
          },
          "metadata": {
            "tags": []
          },
          "execution_count": 20
        }
      ]
    },
    {
      "cell_type": "code",
      "metadata": {
        "colab": {
          "base_uri": "https://localhost:8080/"
        },
        "id": "2-ggvwQAis5X",
        "outputId": "28b63273-a987-4400-b48d-d7a5435a62e1"
      },
      "source": [
        "y_pred = dnn.predict(x=X_test[13].reshape(1,28*28))\n",
        "y_pred"
      ],
      "execution_count": null,
      "outputs": [
        {
          "output_type": "execute_result",
          "data": {
            "text/plain": [
              "array([[9.9999499e-01, 1.3493678e-14, 1.8839737e-08, 2.9420464e-09,\n",
              "        3.7112841e-10, 3.5067600e-08, 2.3428349e-06, 2.6944607e-08,\n",
              "        9.2769945e-08, 2.4981102e-06]], dtype=float32)"
            ]
          },
          "metadata": {
            "tags": []
          },
          "execution_count": 21
        }
      ]
    },
    {
      "cell_type": "code",
      "metadata": {
        "colab": {
          "base_uri": "https://localhost:8080/"
        },
        "id": "yg7T2r36jUcV",
        "outputId": "481c837d-372c-4519-a203-24540fdc3d1a"
      },
      "source": [
        "np.argmax(y_pred)"
      ],
      "execution_count": null,
      "outputs": [
        {
          "output_type": "execute_result",
          "data": {
            "text/plain": [
              "0"
            ]
          },
          "metadata": {
            "tags": []
          },
          "execution_count": 22
        }
      ]
    },
    {
      "cell_type": "code",
      "metadata": {
        "colab": {
          "base_uri": "https://localhost:8080/"
        },
        "id": "2gs4pBssjijc",
        "outputId": "e0fa1bb1-2d51-4ded-8e64-7846a663eb88"
      },
      "source": [
        "y_test[13]"
      ],
      "execution_count": null,
      "outputs": [
        {
          "output_type": "execute_result",
          "data": {
            "text/plain": [
              "0"
            ]
          },
          "metadata": {
            "tags": []
          },
          "execution_count": 23
        }
      ]
    },
    {
      "cell_type": "code",
      "metadata": {
        "id": "9X9SWLxNjpOu"
      },
      "source": [],
      "execution_count": null,
      "outputs": []
    }
  ]
}